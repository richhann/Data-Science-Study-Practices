{
 "cells": [
  {
   "cell_type": "markdown",
   "id": "Z88FfJc9lA_T",
   "metadata": {
    "id": "Z88FfJc9lA_T"
   },
   "source": [
    "## Analysis of an E-commerce Dataset Part 2"
   ]
  },
  {
   "cell_type": "markdown",
   "id": "hoq0NwA9lA_V",
   "metadata": {
    "id": "hoq0NwA9lA_V"
   },
   "source": [
    "The goal of the second analysis task is to train linear regression models to predict users' ratings towards items. This involves a standard Data Science workflow: exploring data, building models, making predictions, and evaluating results. In this task, we will explore the impacts of feature selections and different sizes of training/testing data on the model performance. We will use another cleaned combined e-commerce sub-dataset that **is different from** the one in “Analysis of an E-commerce Dataset” task 1."
   ]
  },
  {
   "cell_type": "code",
   "execution_count": 28,
   "id": "24a6d13e",
   "metadata": {},
   "outputs": [],
   "source": [
    "import pandas as pd\n",
    "import numpy as np\n",
    "from sklearn.model_selection import train_test_split\n",
    "from sklearn import linear_model\n",
    "from sklearn.metrics import r2_score\n",
    "\n",
    "import seaborn as sns\n",
    "import matplotlib.pylab as plt\n",
    "%matplotlib inline"
   ]
  },
  {
   "cell_type": "markdown",
   "id": "f9fd3NU_lA_W",
   "metadata": {
    "id": "f9fd3NU_lA_W"
   },
   "source": [
    "### Import Cleaned E-commerce Dataset\n",
    "The csv file named 'cleaned_ecommerce_dataset.csv' is provided. You may need to use the Pandas method, i.e., `read_csv`, for reading it. After that, please print out its total length."
   ]
  },
  {
   "cell_type": "code",
   "execution_count": 3,
   "id": "PJrb2gtAlA_W",
   "metadata": {
    "id": "PJrb2gtAlA_W"
   },
   "outputs": [
    {
     "name": "stdout",
     "output_type": "stream",
     "text": [
      "   userId  timestamp             review        item  rating  helpfulness  \\\n",
      "0    4081      71900  Not always McCrap  McDonald's     4.0          3.0   \n",
      "\n",
      "  gender               category  item_id  item_price  user_city  \n",
      "0      M  Restaurants & Gourmet       41       30.74          4  \n"
     ]
    }
   ],
   "source": [
    "df = pd.read_csv('data/cleaned_ecommerce_dataset.csv')\n",
    "print(df.head(1))"
   ]
  },
  {
   "cell_type": "markdown",
   "id": "b8e5693c",
   "metadata": {},
   "source": [
    "#### *After reading the csv file... here is the total length*"
   ]
  },
  {
   "cell_type": "code",
   "execution_count": 4,
   "id": "91f583ec",
   "metadata": {},
   "outputs": [
    {
     "name": "stdout",
     "output_type": "stream",
     "text": [
      "the length of Data Frame- Cleaned E-commerce is: 2685\n"
     ]
    }
   ],
   "source": [
    "print(\"the length of Data Frame- Cleaned E-commerce is:\", len(df))"
   ]
  },
  {
   "cell_type": "markdown",
   "id": "aqbuU6rglA_X",
   "metadata": {
    "id": "aqbuU6rglA_X"
   },
   "source": [
    "### Explore the Dataset\n",
    "\n",
    "* Use the methods, i.e., `head()` and `info()`, to have a rough picture about the data, e.g., how many columns, and the data types of each column.\n",
    "* As our goal is to predict ratings given other columns, please get the correlations between helpfulness/gender/category/review and rating by using the `corr()` method.\n",
    "* To get the correlations between different features, you may need to first convert the categorical features (i.e., gender, category and review) into numerial values. For doing this, you may need to import `OrdinalEncoder` from `sklearn.preprocessing` (refer to the useful exmaples [here](https://pbpython.com/categorical-encoding.html))\n",
    "* Please provide ___necessary explanations/analysis___ on the correlations, and figure out which are the ___most___ and ___least___ corrleated features regarding rating. Try to ___discuss___ how the correlation will affect the final prediction results, if we use these features to train a regression model for rating prediction. In what follows, we will conduct experiments to verify your hypothesis."
   ]
  },
  {
   "cell_type": "code",
   "execution_count": 5,
   "id": "1e1235e5",
   "metadata": {},
   "outputs": [
    {
     "name": "stdout",
     "output_type": "stream",
     "text": [
      "<class 'pandas.core.frame.DataFrame'>\n",
      "RangeIndex: 2685 entries, 0 to 2684\n",
      "Data columns (total 11 columns):\n",
      " #   Column       Non-Null Count  Dtype  \n",
      "---  ------       --------------  -----  \n",
      " 0   userId       2685 non-null   int64  \n",
      " 1   timestamp    2685 non-null   int64  \n",
      " 2   review       2685 non-null   object \n",
      " 3   item         2685 non-null   object \n",
      " 4   rating       2685 non-null   float64\n",
      " 5   helpfulness  2685 non-null   float64\n",
      " 6   gender       2685 non-null   object \n",
      " 7   category     2685 non-null   object \n",
      " 8   item_id      2685 non-null   int64  \n",
      " 9   item_price   2685 non-null   float64\n",
      " 10  user_city    2685 non-null   int64  \n",
      "dtypes: float64(3), int64(4), object(4)\n",
      "memory usage: 230.9+ KB\n"
     ]
    }
   ],
   "source": [
    "df.info()"
   ]
  },
  {
   "cell_type": "code",
   "execution_count": 6,
   "id": "18abb6c9",
   "metadata": {},
   "outputs": [
    {
     "name": "stdout",
     "output_type": "stream",
     "text": [
      "Number of rows of the dataFrame 2685\n"
     ]
    }
   ],
   "source": [
    "print(\"Number of rows of the dataFrame\", df.shape[0])"
   ]
  },
  {
   "cell_type": "code",
   "execution_count": 7,
   "id": "323dc00f",
   "metadata": {},
   "outputs": [
    {
     "name": "stdout",
     "output_type": "stream",
     "text": [
      "Number of columns of the dataFrame 11\n"
     ]
    }
   ],
   "source": [
    "print(\"Number of columns of the dataFrame\", df.shape[1])"
   ]
  },
  {
   "cell_type": "markdown",
   "id": "02deaeac",
   "metadata": {
    "id": "W3PImHiElA_X"
   },
   "source": [
    "## *predict ratings given other columns*\n",
    "#### *converting the categorical features into numerial values*"
   ]
  },
  {
   "cell_type": "code",
   "execution_count": 8,
   "id": "ef945c8f",
   "metadata": {},
   "outputs": [
    {
     "data": {
      "text/plain": [
       "userId           int64\n",
       "timestamp        int64\n",
       "review          object\n",
       "item            object\n",
       "rating         float64\n",
       "helpfulness    float64\n",
       "gender          object\n",
       "category        object\n",
       "item_id          int64\n",
       "item_price     float64\n",
       "user_city        int64\n",
       "dtype: object"
      ]
     },
     "execution_count": 8,
     "metadata": {},
     "output_type": "execute_result"
    }
   ],
   "source": [
    "df.dtypes"
   ]
  },
  {
   "cell_type": "markdown",
   "id": "0b2db85d",
   "metadata": {},
   "source": [
    "#### *Selecting Object only in DF*"
   ]
  },
  {
   "cell_type": "code",
   "execution_count": 9,
   "id": "1c20117b",
   "metadata": {},
   "outputs": [
    {
     "data": {
      "text/html": [
       "<div>\n",
       "<style scoped>\n",
       "    .dataframe tbody tr th:only-of-type {\n",
       "        vertical-align: middle;\n",
       "    }\n",
       "\n",
       "    .dataframe tbody tr th {\n",
       "        vertical-align: top;\n",
       "    }\n",
       "\n",
       "    .dataframe thead th {\n",
       "        text-align: right;\n",
       "    }\n",
       "</style>\n",
       "<table border=\"1\" class=\"dataframe\">\n",
       "  <thead>\n",
       "    <tr style=\"text-align: right;\">\n",
       "      <th></th>\n",
       "      <th>review</th>\n",
       "      <th>item</th>\n",
       "      <th>gender</th>\n",
       "      <th>category</th>\n",
       "    </tr>\n",
       "  </thead>\n",
       "  <tbody>\n",
       "    <tr>\n",
       "      <th>0</th>\n",
       "      <td>Not always McCrap</td>\n",
       "      <td>McDonald's</td>\n",
       "      <td>M</td>\n",
       "      <td>Restaurants &amp; Gourmet</td>\n",
       "    </tr>\n",
       "    <tr>\n",
       "      <th>1</th>\n",
       "      <td>I dropped the chalupa even before he told me to</td>\n",
       "      <td>Taco Bell</td>\n",
       "      <td>M</td>\n",
       "      <td>Restaurants &amp; Gourmet</td>\n",
       "    </tr>\n",
       "    <tr>\n",
       "      <th>2</th>\n",
       "      <td>The Wonderful World of Wendy</td>\n",
       "      <td>Wendy's</td>\n",
       "      <td>M</td>\n",
       "      <td>Restaurants &amp; Gourmet</td>\n",
       "    </tr>\n",
       "    <tr>\n",
       "      <th>3</th>\n",
       "      <td>They actually did it</td>\n",
       "      <td>South Park: Bigger, Longer &amp; Uncut</td>\n",
       "      <td>M</td>\n",
       "      <td>Movies</td>\n",
       "    </tr>\n",
       "    <tr>\n",
       "      <th>4</th>\n",
       "      <td>Hey! Gimme some pie!</td>\n",
       "      <td>American Pie</td>\n",
       "      <td>M</td>\n",
       "      <td>Movies</td>\n",
       "    </tr>\n",
       "  </tbody>\n",
       "</table>\n",
       "</div>"
      ],
      "text/plain": [
       "                                            review  \\\n",
       "0                                Not always McCrap   \n",
       "1  I dropped the chalupa even before he told me to   \n",
       "2                     The Wonderful World of Wendy   \n",
       "3                             They actually did it   \n",
       "4                             Hey! Gimme some pie!   \n",
       "\n",
       "                                 item gender               category  \n",
       "0                          McDonald's      M  Restaurants & Gourmet  \n",
       "1                           Taco Bell      M  Restaurants & Gourmet  \n",
       "2                             Wendy's      M  Restaurants & Gourmet  \n",
       "3  South Park: Bigger, Longer & Uncut      M                 Movies  \n",
       "4                        American Pie      M                 Movies  "
      ]
     },
     "execution_count": 9,
     "metadata": {},
     "output_type": "execute_result"
    }
   ],
   "source": [
    "obj_df = df.select_dtypes(include=['object'])\n",
    "obj_df.head()"
   ]
  },
  {
   "cell_type": "markdown",
   "id": "8a32d9f8",
   "metadata": {},
   "source": [
    "#### *check for Null*"
   ]
  },
  {
   "cell_type": "code",
   "execution_count": 10,
   "id": "3084ecdc",
   "metadata": {},
   "outputs": [
    {
     "data": {
      "text/plain": [
       "userId         0\n",
       "timestamp      0\n",
       "review         0\n",
       "item           0\n",
       "rating         0\n",
       "helpfulness    0\n",
       "gender         0\n",
       "category       0\n",
       "item_id        0\n",
       "item_price     0\n",
       "user_city      0\n",
       "dtype: int64"
      ]
     },
     "execution_count": 10,
     "metadata": {},
     "output_type": "execute_result"
    }
   ],
   "source": [
    "null_countClean = df.isnull().sum()\n",
    "null_countClean"
   ]
  },
  {
   "cell_type": "code",
   "execution_count": 11,
   "id": "8e3d450b",
   "metadata": {},
   "outputs": [
    {
     "data": {
      "text/plain": [
       "review      0\n",
       "item        0\n",
       "gender      0\n",
       "category    0\n",
       "dtype: int64"
      ]
     },
     "execution_count": 11,
     "metadata": {},
     "output_type": "execute_result"
    }
   ],
   "source": [
    "null_count= obj_df.isnull().sum()\n",
    "null_count"
   ]
  },
  {
   "cell_type": "markdown",
   "id": "ec1b3320",
   "metadata": {},
   "source": [
    "#### No Null values because it is already cleaned... Thanks :) \n",
    "\n",
    "#### *importing Encoder as directed*"
   ]
  },
  {
   "cell_type": "code",
   "execution_count": 12,
   "id": "84176e03",
   "metadata": {},
   "outputs": [],
   "source": [
    "from sklearn.preprocessing import OrdinalEncoder\n",
    "ord_enc = OrdinalEncoder()"
   ]
  },
  {
   "cell_type": "code",
   "execution_count": 13,
   "id": "5a489938",
   "metadata": {},
   "outputs": [
    {
     "name": "stdout",
     "output_type": "stream",
     "text": [
      "Gender options: ['M' 'F']\n",
      "Category options: 9\n",
      "Reviews options: 2675\n"
     ]
    }
   ],
   "source": [
    "print(\"Gender options:\", df['gender'].unique())\n",
    "print(\"Category options:\", len(df['category'].unique()))\n",
    "print(\"Reviews options:\", len(df['review'].unique()))"
   ]
  },
  {
   "cell_type": "markdown",
   "id": "25b0a4ed",
   "metadata": {},
   "source": [
    "---"
   ]
  },
  {
   "cell_type": "markdown",
   "id": "8d6d9463",
   "metadata": {},
   "source": [
    "##### Gender, Category and reviews are all objects ... Gender can be turned to binary... category into numericals(9)... reviews gets 2675..."
   ]
  },
  {
   "cell_type": "markdown",
   "id": "15ea4d58",
   "metadata": {},
   "source": [
    "### Encoding and transforming"
   ]
  },
  {
   "cell_type": "code",
   "execution_count": 14,
   "id": "32febb10",
   "metadata": {},
   "outputs": [],
   "source": [
    "df['gender_encoded'] = ord_enc.fit_transform(df[['gender']])\n",
    "df['category_encoded'] = ord_enc.fit_transform(df[['category']])\n",
    "df['review_encoded'] = ord_enc.fit_transform(df[['review']])"
   ]
  },
  {
   "cell_type": "markdown",
   "id": "1a3b76e0",
   "metadata": {},
   "source": [
    "### Correlation"
   ]
  },
  {
   "cell_type": "code",
   "execution_count": 16,
   "id": "d8a4e20a",
   "metadata": {},
   "outputs": [
    {
     "name": "stdout",
     "output_type": "stream",
     "text": [
      "                    rating  helpfulness  gender_encoded  category_encoded  \\\n",
      "rating            1.000000    -0.007523       -0.034337         -0.163158   \n",
      "helpfulness      -0.007523     1.000000        0.075947         -0.013408   \n",
      "gender_encoded   -0.034337     0.075947        1.000000          0.022549   \n",
      "category_encoded -0.163158    -0.013408        0.022549          1.000000   \n",
      "review_encoded   -0.036118    -0.028259       -0.037884          0.001970   \n",
      "\n",
      "                  review_encoded  \n",
      "rating                 -0.036118  \n",
      "helpfulness            -0.028259  \n",
      "gender_encoded         -0.037884  \n",
      "category_encoded        0.001970  \n",
      "review_encoded          1.000000  \n"
     ]
    }
   ],
   "source": [
    "corr_df =df[['rating', 'helpfulness', 'gender_encoded', 'category_encoded', 'review_encoded']].corr()\n",
    "\n",
    "print(corr_df)"
   ]
  },
  {
   "cell_type": "code",
   "execution_count": 40,
   "id": "c6026300",
   "metadata": {},
   "outputs": [
    {
     "data": {
      "image/png": "[encoded data removed]",
      "text/plain": [
       "<Figure size 1200x600 with 1 Axes>"
      ]
     },
     "metadata": {},
     "output_type": "display_data"
    }
   ],
   "source": [
    "rating_corr_df.columns = ['Feature', 'Correlation']\n",
    "\n",
    "\n",
    "plt.figure(figsize=(12, 6))\n",
    "sns.barplot(x='Correlation', y='Feature', data=rating_corr_df)\n",
    "\n",
    "\n",
    "for index, value in enumerate(rating_corr_df['Correlation']):\n",
    "    plt.text(value, index, f'{value:.3f}')\n",
    "\n",
    "plt.xlabel('Correlation')\n",
    "plt.ylabel('Columns')\n",
    "plt.title('Correlation against Rating')\n",
    "plt.grid(axis='x')\n",
    "\n",
    "plt.show()"
   ]
  },
  {
   "cell_type": "markdown",
   "id": "bb4977da",
   "metadata": {},
   "source": [
    "---\n",
    "\n",
    "## Correlation analysis"
   ]
  },
  {
   "cell_type": "markdown",
   "id": "7c1a67ef",
   "metadata": {},
   "source": [
    "#### rating and category may suggest a relationship worth investigation\n",
    "\n",
    "**Rating vs category** offers the most significate negative correlation comparing to other columns.\n",
    "\n",
    "##### * helpfulness*\n",
    "\n",
    "**Helpfulness** is extremely weak in correlation, been close to zero, this shows that there is almost no linear relationship between the two\n",
    "\n",
    "\n"
   ]
  },
  {
   "cell_type": "markdown",
   "id": "2fa8e9d7",
   "metadata": {},
   "source": [
    "---"
   ]
  },
  {
   "cell_type": "markdown",
   "id": "4myP5igslA_Y",
   "metadata": {
    "id": "4myP5igslA_Y"
   },
   "source": [
    "### Split Training and Testing Data\n",
    "* Machine learning models are trained to help make predictions for the future. Normally, we need to randomly split the dataset into training and testing sets, where we use the training set to train the model, and then leverage the well-trained model to make predictions on the testing set.\n",
    "* To further investigate whether the size of the training/testing data affects the model performance, please random split the data into training and testing sets with different sizes:\n",
    "    * Case 1: training data containing 10% of the entire data;\n",
    "    * Case 2: training data containing 90% of the entire data.\n",
    "* Print the shape of training and testing sets in the two cases."
   ]
  },
  {
   "cell_type": "code",
   "execution_count": 48,
   "id": "JIDMig9blA_Y",
   "metadata": {
    "id": "JIDMig9blA_Y"
   },
   "outputs": [
    {
     "name": "stdout",
     "output_type": "stream",
     "text": [
      "Case 1 with 10% training data:\n",
      "Shape of X_train: (268, 4)\n",
      "Shape of X_test: (2417, 4)\n",
      "Shape of y_train: (268,)\n",
      "Shape of y_test: (2417,)\n",
      "\n",
      "Case 2 with 90% training data:\n",
      "Shape of X_train: (2416, 4)\n",
      "Shape of X_test: (269, 4)\n",
      "Shape of y_train: (2416,)\n",
      "Shape of y_test: (269,)\n"
     ]
    }
   ],
   "source": [
    "from sklearn.model_selection import train_test_split\n",
    "\n",
    "X = df[['helpfulness', 'gender_encoded', 'category_encoded', 'review_encoded']]\n",
    "y = df['rating']\n",
    "\n",
    "# 10% of the data\n",
    "X_train_10, X_test_10, y_train_10, y_test_10 = train_test_split(X, y, test_size=0.9, random_state=142)\n",
    "\n",
    "#90% of the data\n",
    "X_train_90, X_test_90, y_train_90, y_test_90 = train_test_split(X, y, test_size=0.1, random_state=142)\n",
    "\n",
    "# Print\n",
    "print(\"Case 1 with 10% training data:\")\n",
    "print(f\"Shape of X_train: {X_train_10.shape}\")\n",
    "print(f\"Shape of X_test: {X_test_10.shape}\")\n",
    "print(f\"Shape of y_train: {y_train_10.shape}\")\n",
    "print(f\"Shape of y_test: {y_test_10.shape}\")\n",
    "\n",
    "print(\"\\nCase 2 with 90% training data:\")\n",
    "print(f\"Shape of X_train: {X_train_90.shape}\")\n",
    "print(f\"Shape of X_test: {X_test_90.shape}\")\n",
    "print(f\"Shape of y_train: {y_train_90.shape}\")\n",
    "print(f\"Shape of y_test: {y_test_90.shape}\")\n"
   ]
  },
  {
   "cell_type": "markdown",
   "id": "DjSsgT0BlA_Y",
   "metadata": {
    "id": "DjSsgT0BlA_Y"
   },
   "source": [
    "### Train Linear Regression Models with Feature Selection under Cases 1 & 2\n",
    "* When training a machine learning model for prediction, we may need to select the most important/correlated input features for more accurate results.\n",
    "* To investigate whether feature selection affects the model performance, please select two most correlated features and two least correlated features regarding rating, respectively.\n",
    "* Train four linear regression models by following the conditions:\n",
    "    - (model-a) using the training/testing data in case 1 with two most correlated input features\n",
    "    - (model-b) using the training/testing data in case 1 with two least correlated input features\n",
    "    - (model-c) using the training/testing data in case 2 with two most correlated input features\n",
    "    - (model-d) using the training/testing data in case 2 with two least correlated input features\n",
    "* By doing this, we can verify the impacts of the size of traing/testing data on the model performance via comparing model-a and model-c (or model-b and model-d); meanwhile the impacts of feature selection can be validated via comparing model-a and model-b (or model-c and model-d).    "
   ]
  },
  {
   "cell_type": "code",
   "execution_count": 57,
   "id": "DASzPUATlA_Z",
   "metadata": {
    "id": "DASzPUATlA_Z"
   },
   "outputs": [],
   "source": [
    "# imports\n",
    "from sklearn.linear_model import LinearRegression\n",
    "from sklearn.metrics import mean_squared_error\n",
    "\n",
    "lr = LinearRegression()\n",
    "\n",
    "# Model-a\n",
    "lr.fit(X_train_10[['helpfulness', 'review_encoded']], y_train_10)\n",
    "y_pred_a = lr.predict(X_test_10[['helpfulness', 'review_encoded']])\n",
    "mse_a = mean_squared_error(y_test_10, y_pred_a)\n",
    "\n",
    "# Model-b\n",
    "lr.fit(X_train_10[['gender_encoded', 'category_encoded']], y_train_10)\n",
    "y_pred_b = lr.predict(X_test_10[['gender_encoded', 'category_encoded']])\n",
    "mse_b = mean_squared_error(y_test_10, y_pred_b)\n",
    "\n",
    "# Model-c\n",
    "lr.fit(X_train_90[['helpfulness', 'review_encoded']], y_train_90)\n",
    "y_pred_c = lr.predict(X_test_90[['helpfulness', 'review_encoded']])\n",
    "mse_c = mean_squared_error(y_test_90, y_pred_c)\n",
    "\n",
    "# Model-d\n",
    "lr.fit(X_train_90[['gender_encoded', 'category_encoded']], y_train_90)\n",
    "y_pred_d = lr.predict(X_test_90[['gender_encoded', 'category_encoded']])\n",
    "mse_d = mean_squared_error(y_test_90, y_pred_d)\n"
   ]
  },
  {
   "cell_type": "code",
   "execution_count": 58,
   "id": "2ad9b1ba",
   "metadata": {},
   "outputs": [
    {
     "name": "stdout",
     "output_type": "stream",
     "text": [
      "MSE for Model-a: 1.83964890692985\n",
      "MSE for Model-b: 1.7723033271831938\n",
      "MSE for Model-c: 1.7890363900010227\n",
      "MSE for Model-d: 1.779660383099854\n"
     ]
    }
   ],
   "source": [
    "print(f\"MSE for Model-a: {mse_a}\")\n",
    "print(f\"MSE for Model-b: {mse_b}\")\n",
    "print(f\"MSE for Model-c: {mse_c}\")\n",
    "print(f\"MSE for Model-d: {mse_d}\")"
   ]
  },
  {
   "cell_type": "markdown",
   "id": "KATSn7hYlA_Z",
   "metadata": {
    "id": "KATSn7hYlA_Z"
   },
   "source": [
    "### Evaluate Models\n",
    "* Evaluate the performance of the four models with two metrics, including MSE and Root MSE\n",
    "* Print the results of the four models regarding the two metrics"
   ]
  },
  {
   "cell_type": "code",
   "execution_count": 60,
   "id": "4fU8GPS9lA_Z",
   "metadata": {
    "id": "4fU8GPS9lA_Z"
   },
   "outputs": [
    {
     "name": "stdout",
     "output_type": "stream",
     "text": [
      "MSE for Model-a: 1.83964890692985, RMSE for Model-a: 1.3563365758283783\n",
      "MSE for Model-b: 1.7723033271831938, RMSE for Model-b: 1.3312788314936859\n",
      "MSE for Model-c: 1.7890363900010227, RMSE for Model-c: 1.3375486495828937\n",
      "MSE for Model-d: 1.779660383099854, RMSE for Model-d: 1.334039123526688\n"
     ]
    }
   ],
   "source": [
    "rmse_a = np.sqrt(mse_a)\n",
    "rmse_b = np.sqrt(mse_b)\n",
    "rmse_c = np.sqrt(mse_c)\n",
    "rmse_d = np.sqrt(mse_d)\n",
    "\n",
    "#print\n",
    "\n",
    "print(f\"MSE for Model-a: {mse_a}, RMSE for Model-a: {rmse_a}\")\n",
    "print(f\"MSE for Model-b: {mse_b}, RMSE for Model-b: {rmse_b}\")\n",
    "print(f\"MSE for Model-c: {mse_c}, RMSE for Model-c: {rmse_c}\")\n",
    "print(f\"MSE for Model-d: {mse_d}, RMSE for Model-d: {rmse_d}\")"
   ]
  },
  {
   "cell_type": "markdown",
   "id": "Y9jx-eY6lA_a",
   "metadata": {
    "id": "Y9jx-eY6lA_a"
   },
   "source": [
    "### Visualize, Compare and Analyze the Results\n",
    "* Visulize the results, and perform ___insightful analysis___ on the obtained results. For better visualization, you may need to carefully set the scale for the y-axis.\n",
    "* Normally, the model trained with most correlated features and more training data will get better results. Do you obtain the similar observations? If not, please ___explain the possible reasons___."
   ]
  },
  {
   "cell_type": "code",
   "execution_count": null,
   "id": "3TNAIGDilA_a",
   "metadata": {
    "id": "3TNAIGDilA_a"
   },
   "outputs": [],
   "source": []
  }
 ],
 "metadata": {
  "colab": {
   "provenance": []
  },
  "kernelspec": {
   "display_name": "Python 3 (ipykernel)",
   "language": "python",
   "name": "python3"
  },
  "language_info": {
   "codemirror_mode": {
    "name": "ipython",
    "version": 3
   },
   "file_extension": ".py",
   "mimetype": "text/x-python",
   "name": "python",
   "nbconvert_exporter": "python",
   "pygments_lexer": "ipython3",
   "version": "3.11.4"
  }
 },
 "nbformat": 4,
 "nbformat_minor": 5
}
